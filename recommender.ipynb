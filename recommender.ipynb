{
 "cells": [
  {
   "cell_type": "code",
   "execution_count": null,
   "outputs": [],
   "source": [
    "import numpy as np\n",
    "import pandas as pd"
   ],
   "metadata": {
    "collapsed": false,
    "pycharm": {
     "name": "#%%\n"
    }
   }
  },
  {
   "cell_type": "code",
   "execution_count": 81,
   "outputs": [],
   "source": [
    "anime = pd.read_csv('datasets/anime.csv')\n",
    "manga = pd.read_csv('datasets/manga.csv')\n",
    "ratings = pd.read_csv('datasets/rating.csv')"
   ],
   "metadata": {
    "collapsed": false,
    "pycharm": {
     "name": "#%%\n"
    }
   }
  },
  {
   "cell_type": "code",
   "execution_count": 82,
   "outputs": [
    {
     "data": {
      "text/plain": "   anime_id                               title   type  score  scored_by  \\\n0      5114    Fullmetal Alchemist: Brotherhood     tv   9.13    1871705   \n1     11061              Hunter x Hunter (2011)     tv   9.04    1509622   \n2     38524  Shingeki no Kyojin Season 3 Part 2     tv   9.07    1329500   \n3      9253                         Steins;Gate     tv   9.08    1252286   \n4     28851                      Koe no Katachi  movie   8.95    1398608   \n\n            status  episodes  start_date    end_date        source  ...  \\\n0  finished_airing      64.0  2009-04-05  2010-07-04         manga  ...   \n1  finished_airing     148.0  2011-10-02  2014-09-24         manga  ...   \n2  finished_airing      10.0  2019-04-29  2019-07-01         manga  ...   \n3  finished_airing      24.0  2011-04-06  2011-09-14  visual_novel  ...   \n4  finished_airing       1.0  2016-09-17  2016-09-17         manga  ...   \n\n                                           producers  \\\n0  ['Aniplex', 'Square Enix', 'Mainichi Broadcast...   \n1   ['VAP', 'Nippon Television Network', 'Shueisha']   \n2  ['Production I.G', 'Dentsu', 'Mainichi Broadca...   \n3  ['Frontier Works', 'Media Factory', 'Movic', '...   \n4  ['Shochiku', 'Pony Canyon', 'Kodansha', 'ABC A...   \n\n                              licensors  \\\n0  ['Funimation', 'Aniplex of America']   \n1                         ['VIZ Media']   \n2                        ['Funimation']   \n3                        ['Funimation']   \n4          ['Eleven Arts', 'NYAV Post']   \n\n                                            synopsis  \\\n0  After a horrific alchemy experiment goes wrong...   \n1  Hunters devote themselves to accomplishing haz...   \n2  Seeking to restore humanity's diminishing hope...   \n3  Eccentric scientist Rintarou Okabe has a never...   \n4  As a wild youth, elementary school student Sho...   \n\n                                          background  \\\n0                                                NaN   \n1                                                NaN   \n2  Shingeki no Kyojin adapts content from volumes...   \n3  Steins;Gate is based on 5pb. and Nitroplus' re...   \n4  Winner of the Excellence Award on the 20th Jap...   \n\n                                        main_picture  \\\n0  https://cdn.myanimelist.net/images/anime/1223/...   \n1  https://cdn.myanimelist.net/images/anime/1337/...   \n2  https://cdn.myanimelist.net/images/anime/1517/...   \n3  https://cdn.myanimelist.net/images/anime/5/731...   \n4  https://cdn.myanimelist.net/images/anime/1122/...   \n\n                                                 url  \\\n0  https://myanimelist.net/anime/5114/Fullmetal_A...   \n1  https://myanimelist.net/anime/11061/Hunter_x_H...   \n2  https://myanimelist.net/anime/38524/Shingeki_n...   \n3     https://myanimelist.net/anime/9253/Steins_Gate   \n4  https://myanimelist.net/anime/28851/Koe_no_Kat...   \n\n                                   trailer_url  \\\n0  https://www.youtube.com/watch?v=--IcmZkvL0Q   \n1  https://www.youtube.com/watch?v=D9iTQRB4XRk   \n2  https://www.youtube.com/watch?v=hKHepjfj5Tw   \n3  https://www.youtube.com/watch?v=27OZc-ku6is   \n4  https://www.youtube.com/watch?v=XBNWo25izJ8   \n\n                      title_english              title_japanese  \\\n0  Fullmetal Alchemist: Brotherhood  鋼の錬金術師 FULLMETAL ALCHEMIST   \n1                   Hunter x Hunter    HUNTER×HUNTER（ハンター×ハンター）   \n2   Attack on Titan Season 3 Part 2        進撃の巨人 Season3 Part.2   \n3                       Steins;Gate                 STEINS;GATE   \n4                    A Silent Voice                         聲の形   \n\n                                      title_synonyms  \n0  ['Hagane no Renkinjutsushi: Fullmetal Alchemis...  \n1                                     ['HxH (2011)']  \n2                                                 []  \n3                                                 []  \n4                             ['The Shape of Voice']  \n\n[5 rows x 39 columns]",
      "text/html": "<div>\n<style scoped>\n    .dataframe tbody tr th:only-of-type {\n        vertical-align: middle;\n    }\n\n    .dataframe tbody tr th {\n        vertical-align: top;\n    }\n\n    .dataframe thead th {\n        text-align: right;\n    }\n</style>\n<table border=\"1\" class=\"dataframe\">\n  <thead>\n    <tr style=\"text-align: right;\">\n      <th></th>\n      <th>anime_id</th>\n      <th>title</th>\n      <th>type</th>\n      <th>score</th>\n      <th>scored_by</th>\n      <th>status</th>\n      <th>episodes</th>\n      <th>start_date</th>\n      <th>end_date</th>\n      <th>source</th>\n      <th>...</th>\n      <th>producers</th>\n      <th>licensors</th>\n      <th>synopsis</th>\n      <th>background</th>\n      <th>main_picture</th>\n      <th>url</th>\n      <th>trailer_url</th>\n      <th>title_english</th>\n      <th>title_japanese</th>\n      <th>title_synonyms</th>\n    </tr>\n  </thead>\n  <tbody>\n    <tr>\n      <th>0</th>\n      <td>5114</td>\n      <td>Fullmetal Alchemist: Brotherhood</td>\n      <td>tv</td>\n      <td>9.13</td>\n      <td>1871705</td>\n      <td>finished_airing</td>\n      <td>64.0</td>\n      <td>2009-04-05</td>\n      <td>2010-07-04</td>\n      <td>manga</td>\n      <td>...</td>\n      <td>['Aniplex', 'Square Enix', 'Mainichi Broadcast...</td>\n      <td>['Funimation', 'Aniplex of America']</td>\n      <td>After a horrific alchemy experiment goes wrong...</td>\n      <td>NaN</td>\n      <td>https://cdn.myanimelist.net/images/anime/1223/...</td>\n      <td>https://myanimelist.net/anime/5114/Fullmetal_A...</td>\n      <td>https://www.youtube.com/watch?v=--IcmZkvL0Q</td>\n      <td>Fullmetal Alchemist: Brotherhood</td>\n      <td>鋼の錬金術師 FULLMETAL ALCHEMIST</td>\n      <td>['Hagane no Renkinjutsushi: Fullmetal Alchemis...</td>\n    </tr>\n    <tr>\n      <th>1</th>\n      <td>11061</td>\n      <td>Hunter x Hunter (2011)</td>\n      <td>tv</td>\n      <td>9.04</td>\n      <td>1509622</td>\n      <td>finished_airing</td>\n      <td>148.0</td>\n      <td>2011-10-02</td>\n      <td>2014-09-24</td>\n      <td>manga</td>\n      <td>...</td>\n      <td>['VAP', 'Nippon Television Network', 'Shueisha']</td>\n      <td>['VIZ Media']</td>\n      <td>Hunters devote themselves to accomplishing haz...</td>\n      <td>NaN</td>\n      <td>https://cdn.myanimelist.net/images/anime/1337/...</td>\n      <td>https://myanimelist.net/anime/11061/Hunter_x_H...</td>\n      <td>https://www.youtube.com/watch?v=D9iTQRB4XRk</td>\n      <td>Hunter x Hunter</td>\n      <td>HUNTER×HUNTER（ハンター×ハンター）</td>\n      <td>['HxH (2011)']</td>\n    </tr>\n    <tr>\n      <th>2</th>\n      <td>38524</td>\n      <td>Shingeki no Kyojin Season 3 Part 2</td>\n      <td>tv</td>\n      <td>9.07</td>\n      <td>1329500</td>\n      <td>finished_airing</td>\n      <td>10.0</td>\n      <td>2019-04-29</td>\n      <td>2019-07-01</td>\n      <td>manga</td>\n      <td>...</td>\n      <td>['Production I.G', 'Dentsu', 'Mainichi Broadca...</td>\n      <td>['Funimation']</td>\n      <td>Seeking to restore humanity's diminishing hope...</td>\n      <td>Shingeki no Kyojin adapts content from volumes...</td>\n      <td>https://cdn.myanimelist.net/images/anime/1517/...</td>\n      <td>https://myanimelist.net/anime/38524/Shingeki_n...</td>\n      <td>https://www.youtube.com/watch?v=hKHepjfj5Tw</td>\n      <td>Attack on Titan Season 3 Part 2</td>\n      <td>進撃の巨人 Season3 Part.2</td>\n      <td>[]</td>\n    </tr>\n    <tr>\n      <th>3</th>\n      <td>9253</td>\n      <td>Steins;Gate</td>\n      <td>tv</td>\n      <td>9.08</td>\n      <td>1252286</td>\n      <td>finished_airing</td>\n      <td>24.0</td>\n      <td>2011-04-06</td>\n      <td>2011-09-14</td>\n      <td>visual_novel</td>\n      <td>...</td>\n      <td>['Frontier Works', 'Media Factory', 'Movic', '...</td>\n      <td>['Funimation']</td>\n      <td>Eccentric scientist Rintarou Okabe has a never...</td>\n      <td>Steins;Gate is based on 5pb. and Nitroplus' re...</td>\n      <td>https://cdn.myanimelist.net/images/anime/5/731...</td>\n      <td>https://myanimelist.net/anime/9253/Steins_Gate</td>\n      <td>https://www.youtube.com/watch?v=27OZc-ku6is</td>\n      <td>Steins;Gate</td>\n      <td>STEINS;GATE</td>\n      <td>[]</td>\n    </tr>\n    <tr>\n      <th>4</th>\n      <td>28851</td>\n      <td>Koe no Katachi</td>\n      <td>movie</td>\n      <td>8.95</td>\n      <td>1398608</td>\n      <td>finished_airing</td>\n      <td>1.0</td>\n      <td>2016-09-17</td>\n      <td>2016-09-17</td>\n      <td>manga</td>\n      <td>...</td>\n      <td>['Shochiku', 'Pony Canyon', 'Kodansha', 'ABC A...</td>\n      <td>['Eleven Arts', 'NYAV Post']</td>\n      <td>As a wild youth, elementary school student Sho...</td>\n      <td>Winner of the Excellence Award on the 20th Jap...</td>\n      <td>https://cdn.myanimelist.net/images/anime/1122/...</td>\n      <td>https://myanimelist.net/anime/28851/Koe_no_Kat...</td>\n      <td>https://www.youtube.com/watch?v=XBNWo25izJ8</td>\n      <td>A Silent Voice</td>\n      <td>聲の形</td>\n      <td>['The Shape of Voice']</td>\n    </tr>\n  </tbody>\n</table>\n<p>5 rows × 39 columns</p>\n</div>"
     },
     "execution_count": 82,
     "metadata": {},
     "output_type": "execute_result"
    }
   ],
   "source": [
    "anime.head()"
   ],
   "metadata": {
    "collapsed": false,
    "pycharm": {
     "name": "#%%\n"
    }
   }
  },
  {
   "cell_type": "code",
   "execution_count": 83,
   "outputs": [
    {
     "name": "stdout",
     "output_type": "stream",
     "text": [
      "<class 'pandas.core.frame.DataFrame'>\n",
      "RangeIndex: 24165 entries, 0 to 24164\n",
      "Data columns (total 39 columns):\n",
      " #   Column            Non-Null Count  Dtype  \n",
      "---  ------            --------------  -----  \n",
      " 0   anime_id          24165 non-null  int64  \n",
      " 1   title             24165 non-null  object \n",
      " 2   type              24092 non-null  object \n",
      " 3   score             14272 non-null  float64\n",
      " 4   scored_by         24165 non-null  int64  \n",
      " 5   status            24165 non-null  object \n",
      " 6   episodes          23397 non-null  float64\n",
      " 7   start_date        21391 non-null  object \n",
      " 8   end_date          19912 non-null  object \n",
      " 9   source            20404 non-null  object \n",
      " 10  members           24165 non-null  int64  \n",
      " 11  favorites         24165 non-null  int64  \n",
      " 12  episode_duration  23302 non-null  object \n",
      " 13  total_duration    23002 non-null  object \n",
      " 14  rating            23148 non-null  object \n",
      " 15  sfw               24165 non-null  bool   \n",
      " 16  approved          24165 non-null  bool   \n",
      " 17  created_at        24165 non-null  object \n",
      " 18  updated_at        24165 non-null  object \n",
      " 19  start_year        17749 non-null  float64\n",
      " 20  start_season      17749 non-null  object \n",
      " 21  real_start_date   21391 non-null  object \n",
      " 22  real_end_date     19912 non-null  object \n",
      " 23  broadcast_day     3065 non-null   object \n",
      " 24  broadcast_time    2928 non-null   object \n",
      " 25  genres            24165 non-null  object \n",
      " 26  themes            24165 non-null  object \n",
      " 27  demographics      24165 non-null  object \n",
      " 28  studios           24165 non-null  object \n",
      " 29  producers         24165 non-null  object \n",
      " 30  licensors         24165 non-null  object \n",
      " 31  synopsis          20848 non-null  object \n",
      " 32  background        2342 non-null   object \n",
      " 33  main_picture      21378 non-null  object \n",
      " 34  url               24165 non-null  object \n",
      " 35  trailer_url       4362 non-null   object \n",
      " 36  title_english     9084 non-null   object \n",
      " 37  title_japanese    23911 non-null  object \n",
      " 38  title_synonyms    24165 non-null  object \n",
      "dtypes: bool(2), float64(3), int64(4), object(30)\n",
      "memory usage: 6.9+ MB\n"
     ]
    }
   ],
   "source": [
    "anime.info()"
   ],
   "metadata": {
    "collapsed": false,
    "pycharm": {
     "name": "#%%\n"
    }
   }
  },
  {
   "cell_type": "code",
   "execution_count": 84,
   "outputs": [
    {
     "data": {
      "text/plain": "anime_id                0\ntitle                   0\ntype                   73\nscore                9893\nscored_by               0\nstatus                  0\nepisodes              768\nstart_date           2774\nend_date             4253\nsource               3761\nmembers                 0\nfavorites               0\nepisode_duration      863\ntotal_duration       1163\nrating               1017\nsfw                     0\napproved                0\ncreated_at              0\nupdated_at              0\nstart_year           6416\nstart_season         6416\nreal_start_date      2774\nreal_end_date        4253\nbroadcast_day       21100\nbroadcast_time      21237\ngenres                  0\nthemes                  0\ndemographics            0\nstudios                 0\nproducers               0\nlicensors               0\nsynopsis             3317\nbackground          21823\nmain_picture         2787\nurl                     0\ntrailer_url         19803\ntitle_english       15081\ntitle_japanese        254\ntitle_synonyms          0\ndtype: int64"
     },
     "execution_count": 84,
     "metadata": {},
     "output_type": "execute_result"
    }
   ],
   "source": [
    "anime.isnull().sum()"
   ],
   "metadata": {
    "collapsed": false,
    "pycharm": {
     "name": "#%%\n"
    }
   }
  },
  {
   "cell_type": "code",
   "execution_count": 84,
   "outputs": [],
   "source": [],
   "metadata": {
    "collapsed": false,
    "pycharm": {
     "name": "#%%\n"
    }
   }
  },
  {
   "cell_type": "code",
   "execution_count": 85,
   "outputs": [
    {
     "data": {
      "text/plain": "   manga_id                                            title   type  score  \\\n0         2                                          Berserk  manga   9.45   \n1        13                                        One Piece  manga   9.20   \n2        25                              Fullmetal Alchemist  manga   9.05   \n3      1706  JoJo no Kimyou na Bouken Part 7: Steel Ball Run  manga   9.27   \n4      4632                                   Oyasumi Punpun  manga   9.03   \n\n   scored_by                status  volumes  chapters  start_date    end_date  \\\n0     268737  currently_publishing      NaN       NaN  1989-08-25         NaN   \n1     305917  currently_publishing      NaN       NaN  1997-07-22         NaN   \n2     143879              finished     27.0     116.0  2001-07-12  2010-09-11   \n3     125482              finished     24.0      96.0  2004-01-19  2011-04-19   \n4     141146              finished     13.0     147.0  2007-03-15  2013-11-02   \n\n   ...                                            authors  \\\n0  ...  [{'id': 1868, 'first_name': 'Kentarou', 'last_...   \n1  ...  [{'id': 1881, 'first_name': 'Eiichiro', 'last_...   \n2  ...  [{'id': 1874, 'first_name': 'Hiromu', 'last_na...   \n3  ...  [{'id': 2619, 'first_name': 'Hirohiko', 'last_...   \n4  ...  [{'id': 2836, 'first_name': 'Inio', 'last_name...   \n\n              serializations  \\\n0           ['Young Animal']   \n1  ['Shounen Jump (Weekly)']   \n2         ['Shounen Gangan']   \n3             ['Ultra Jump']   \n4      ['Big Comic Spirits']   \n\n                                            synopsis  \\\n0  Guts, a former mercenary now known as the \"Bla...   \n1  Gol D. Roger, a man referred to as the \"Pirate...   \n2  Alchemists are knowledgeable and naturally tal...   \n3  In the American Old West, the world's greatest...   \n4  Punpun Onodera is a normal 11-year-old boy liv...   \n\n                                          background  \\\n0  Berserk won the Award for Excellence at the si...   \n1  One Piece is the highest selling manga series ...   \n2  Hagane no Renkinjutsushi won the 49th Shogakuk...   \n3  JoJo no Kimyou na Bouken Part 7: Steel Ball Ru...   \n4  Oyasumi Punpun was originally serialized in Yo...   \n\n                                        main_picture  \\\n0  https://cdn.myanimelist.net/images/manga/1/157...   \n1  https://cdn.myanimelist.net/images/manga/2/253...   \n2  https://cdn.myanimelist.net/images/manga/3/243...   \n3  https://cdn.myanimelist.net/images/manga/3/179...   \n4  https://cdn.myanimelist.net/images/manga/3/164...   \n\n                                                 url        title_english  \\\n0            https://myanimelist.net/manga/2/Berserk              Berserk   \n1         https://myanimelist.net/manga/13/One_Piece            One Piece   \n2  https://myanimelist.net/manga/25/Fullmetal_Alc...  Fullmetal Alchemist   \n3  https://myanimelist.net/manga/1706/JoJo_no_Kim...                  NaN   \n4  https://myanimelist.net/manga/4632/Oyasumi_Punpun     Goodnight Punpun   \n\n                    title_japanese  \\\n0                            ベルセルク   \n1                        ONE PIECE   \n2                           鋼の錬金術師   \n3  ジョジョの奇妙な冒険 Part7 STEEL BALL RUN   \n4                         おやすみプンプン   \n\n                                      title_synonyms jikan  \n0                         ['Berserk: The Prototype']  True  \n1                                                 []  True  \n2  ['Full Metal Alchemist', 'Hagane no Renkinjuts...  True  \n3  [\"JoJo's Bizarre Adventure Part 7: Steel Ball ...  True  \n4                                                 []  True  \n\n[5 rows x 31 columns]",
      "text/html": "<div>\n<style scoped>\n    .dataframe tbody tr th:only-of-type {\n        vertical-align: middle;\n    }\n\n    .dataframe tbody tr th {\n        vertical-align: top;\n    }\n\n    .dataframe thead th {\n        text-align: right;\n    }\n</style>\n<table border=\"1\" class=\"dataframe\">\n  <thead>\n    <tr style=\"text-align: right;\">\n      <th></th>\n      <th>manga_id</th>\n      <th>title</th>\n      <th>type</th>\n      <th>score</th>\n      <th>scored_by</th>\n      <th>status</th>\n      <th>volumes</th>\n      <th>chapters</th>\n      <th>start_date</th>\n      <th>end_date</th>\n      <th>...</th>\n      <th>authors</th>\n      <th>serializations</th>\n      <th>synopsis</th>\n      <th>background</th>\n      <th>main_picture</th>\n      <th>url</th>\n      <th>title_english</th>\n      <th>title_japanese</th>\n      <th>title_synonyms</th>\n      <th>jikan</th>\n    </tr>\n  </thead>\n  <tbody>\n    <tr>\n      <th>0</th>\n      <td>2</td>\n      <td>Berserk</td>\n      <td>manga</td>\n      <td>9.45</td>\n      <td>268737</td>\n      <td>currently_publishing</td>\n      <td>NaN</td>\n      <td>NaN</td>\n      <td>1989-08-25</td>\n      <td>NaN</td>\n      <td>...</td>\n      <td>[{'id': 1868, 'first_name': 'Kentarou', 'last_...</td>\n      <td>['Young Animal']</td>\n      <td>Guts, a former mercenary now known as the \"Bla...</td>\n      <td>Berserk won the Award for Excellence at the si...</td>\n      <td>https://cdn.myanimelist.net/images/manga/1/157...</td>\n      <td>https://myanimelist.net/manga/2/Berserk</td>\n      <td>Berserk</td>\n      <td>ベルセルク</td>\n      <td>['Berserk: The Prototype']</td>\n      <td>True</td>\n    </tr>\n    <tr>\n      <th>1</th>\n      <td>13</td>\n      <td>One Piece</td>\n      <td>manga</td>\n      <td>9.20</td>\n      <td>305917</td>\n      <td>currently_publishing</td>\n      <td>NaN</td>\n      <td>NaN</td>\n      <td>1997-07-22</td>\n      <td>NaN</td>\n      <td>...</td>\n      <td>[{'id': 1881, 'first_name': 'Eiichiro', 'last_...</td>\n      <td>['Shounen Jump (Weekly)']</td>\n      <td>Gol D. Roger, a man referred to as the \"Pirate...</td>\n      <td>One Piece is the highest selling manga series ...</td>\n      <td>https://cdn.myanimelist.net/images/manga/2/253...</td>\n      <td>https://myanimelist.net/manga/13/One_Piece</td>\n      <td>One Piece</td>\n      <td>ONE PIECE</td>\n      <td>[]</td>\n      <td>True</td>\n    </tr>\n    <tr>\n      <th>2</th>\n      <td>25</td>\n      <td>Fullmetal Alchemist</td>\n      <td>manga</td>\n      <td>9.05</td>\n      <td>143879</td>\n      <td>finished</td>\n      <td>27.0</td>\n      <td>116.0</td>\n      <td>2001-07-12</td>\n      <td>2010-09-11</td>\n      <td>...</td>\n      <td>[{'id': 1874, 'first_name': 'Hiromu', 'last_na...</td>\n      <td>['Shounen Gangan']</td>\n      <td>Alchemists are knowledgeable and naturally tal...</td>\n      <td>Hagane no Renkinjutsushi won the 49th Shogakuk...</td>\n      <td>https://cdn.myanimelist.net/images/manga/3/243...</td>\n      <td>https://myanimelist.net/manga/25/Fullmetal_Alc...</td>\n      <td>Fullmetal Alchemist</td>\n      <td>鋼の錬金術師</td>\n      <td>['Full Metal Alchemist', 'Hagane no Renkinjuts...</td>\n      <td>True</td>\n    </tr>\n    <tr>\n      <th>3</th>\n      <td>1706</td>\n      <td>JoJo no Kimyou na Bouken Part 7: Steel Ball Run</td>\n      <td>manga</td>\n      <td>9.27</td>\n      <td>125482</td>\n      <td>finished</td>\n      <td>24.0</td>\n      <td>96.0</td>\n      <td>2004-01-19</td>\n      <td>2011-04-19</td>\n      <td>...</td>\n      <td>[{'id': 2619, 'first_name': 'Hirohiko', 'last_...</td>\n      <td>['Ultra Jump']</td>\n      <td>In the American Old West, the world's greatest...</td>\n      <td>JoJo no Kimyou na Bouken Part 7: Steel Ball Ru...</td>\n      <td>https://cdn.myanimelist.net/images/manga/3/179...</td>\n      <td>https://myanimelist.net/manga/1706/JoJo_no_Kim...</td>\n      <td>NaN</td>\n      <td>ジョジョの奇妙な冒険 Part7 STEEL BALL RUN</td>\n      <td>[\"JoJo's Bizarre Adventure Part 7: Steel Ball ...</td>\n      <td>True</td>\n    </tr>\n    <tr>\n      <th>4</th>\n      <td>4632</td>\n      <td>Oyasumi Punpun</td>\n      <td>manga</td>\n      <td>9.03</td>\n      <td>141146</td>\n      <td>finished</td>\n      <td>13.0</td>\n      <td>147.0</td>\n      <td>2007-03-15</td>\n      <td>2013-11-02</td>\n      <td>...</td>\n      <td>[{'id': 2836, 'first_name': 'Inio', 'last_name...</td>\n      <td>['Big Comic Spirits']</td>\n      <td>Punpun Onodera is a normal 11-year-old boy liv...</td>\n      <td>Oyasumi Punpun was originally serialized in Yo...</td>\n      <td>https://cdn.myanimelist.net/images/manga/3/164...</td>\n      <td>https://myanimelist.net/manga/4632/Oyasumi_Punpun</td>\n      <td>Goodnight Punpun</td>\n      <td>おやすみプンプン</td>\n      <td>[]</td>\n      <td>True</td>\n    </tr>\n  </tbody>\n</table>\n<p>5 rows × 31 columns</p>\n</div>"
     },
     "execution_count": 85,
     "metadata": {},
     "output_type": "execute_result"
    }
   ],
   "source": [
    "manga.head()"
   ],
   "metadata": {
    "collapsed": false,
    "pycharm": {
     "name": "#%%\n"
    }
   }
  },
  {
   "cell_type": "code",
   "execution_count": 86,
   "outputs": [
    {
     "name": "stdout",
     "output_type": "stream",
     "text": [
      "<class 'pandas.core.frame.DataFrame'>\n",
      "RangeIndex: 67273 entries, 0 to 67272\n",
      "Data columns (total 31 columns):\n",
      " #   Column             Non-Null Count  Dtype  \n",
      "---  ------             --------------  -----  \n",
      " 0   manga_id           67273 non-null  int64  \n",
      " 1   title              67273 non-null  object \n",
      " 2   type               67273 non-null  object \n",
      " 3   score              21910 non-null  float64\n",
      " 4   scored_by          67273 non-null  int64  \n",
      " 5   status             67273 non-null  object \n",
      " 6   volumes            50494 non-null  float64\n",
      " 7   chapters           47095 non-null  float64\n",
      " 8   start_date         62949 non-null  object \n",
      " 9   end_date           51721 non-null  object \n",
      " 10  members            67273 non-null  int64  \n",
      " 11  favorites          67273 non-null  int64  \n",
      " 12  sfw                67273 non-null  bool   \n",
      " 13  approved           67273 non-null  bool   \n",
      " 14  created_at_before  67273 non-null  object \n",
      " 15  updated_at         58991 non-null  object \n",
      " 16  real_start_date    62949 non-null  object \n",
      " 17  real_end_date      51721 non-null  object \n",
      " 18  genres             67273 non-null  object \n",
      " 19  themes             67273 non-null  object \n",
      " 20  demographics       67273 non-null  object \n",
      " 21  authors            67273 non-null  object \n",
      " 22  serializations     67273 non-null  object \n",
      " 23  synopsis           45620 non-null  object \n",
      " 24  background         9339 non-null   object \n",
      " 25  main_picture       64832 non-null  object \n",
      " 26  url                67273 non-null  object \n",
      " 27  title_english      18427 non-null  object \n",
      " 28  title_japanese     64593 non-null  object \n",
      " 29  title_synonyms     67273 non-null  object \n",
      " 30  jikan              67273 non-null  bool   \n",
      "dtypes: bool(3), float64(3), int64(4), object(21)\n",
      "memory usage: 14.6+ MB\n"
     ]
    }
   ],
   "source": [
    "manga.info()"
   ],
   "metadata": {
    "collapsed": false,
    "pycharm": {
     "name": "#%%\n"
    }
   }
  },
  {
   "cell_type": "code",
   "execution_count": 87,
   "outputs": [
    {
     "data": {
      "text/plain": "   user_id  anime_id  rating\n0        1        20      -1\n1        1        24      -1\n2        1        79      -1\n3        1       226      -1\n4        1       241      -1",
      "text/html": "<div>\n<style scoped>\n    .dataframe tbody tr th:only-of-type {\n        vertical-align: middle;\n    }\n\n    .dataframe tbody tr th {\n        vertical-align: top;\n    }\n\n    .dataframe thead th {\n        text-align: right;\n    }\n</style>\n<table border=\"1\" class=\"dataframe\">\n  <thead>\n    <tr style=\"text-align: right;\">\n      <th></th>\n      <th>user_id</th>\n      <th>anime_id</th>\n      <th>rating</th>\n    </tr>\n  </thead>\n  <tbody>\n    <tr>\n      <th>0</th>\n      <td>1</td>\n      <td>20</td>\n      <td>-1</td>\n    </tr>\n    <tr>\n      <th>1</th>\n      <td>1</td>\n      <td>24</td>\n      <td>-1</td>\n    </tr>\n    <tr>\n      <th>2</th>\n      <td>1</td>\n      <td>79</td>\n      <td>-1</td>\n    </tr>\n    <tr>\n      <th>3</th>\n      <td>1</td>\n      <td>226</td>\n      <td>-1</td>\n    </tr>\n    <tr>\n      <th>4</th>\n      <td>1</td>\n      <td>241</td>\n      <td>-1</td>\n    </tr>\n  </tbody>\n</table>\n</div>"
     },
     "execution_count": 87,
     "metadata": {},
     "output_type": "execute_result"
    }
   ],
   "source": [
    "ratings.head()"
   ],
   "metadata": {
    "collapsed": false,
    "pycharm": {
     "name": "#%%\n"
    }
   }
  },
  {
   "cell_type": "code",
   "execution_count": 88,
   "outputs": [
    {
     "data": {
      "text/plain": "   anime_id                               title   type  \\\n0      5114    Fullmetal Alchemist: Brotherhood     tv   \n1     11061              Hunter x Hunter (2011)     tv   \n2     38524  Shingeki no Kyojin Season 3 Part 2     tv   \n3      9253                         Steins;Gate     tv   \n4     28851                      Koe no Katachi  movie   \n\n                                        genres  \\\n0  ['Action', 'Adventure', 'Drama', 'Fantasy']   \n1           ['Action', 'Adventure', 'Fantasy']   \n2                          ['Action', 'Drama']   \n3              ['Drama', 'Sci-Fi', 'Suspense']   \n4                                    ['Drama']   \n\n                             themes demographics              studios  \\\n0                      ['Military']  ['Shounen']            ['Bones']   \n1                                []  ['Shounen']         ['Madhouse']   \n2  ['Gore', 'Military', 'Survival']  ['Shounen']       ['Wit Studio']   \n3  ['Psychological', 'Time Travel']           []        ['White Fox']   \n4              ['Romantic Subtext']  ['Shounen']  ['Kyoto Animation']   \n\n                                            synopsis  \\\n0  After a horrific alchemy experiment goes wrong...   \n1  Hunters devote themselves to accomplishing haz...   \n2  Seeking to restore humanity's diminishing hope...   \n3  Eccentric scientist Rintarou Okabe has a never...   \n4  As a wild youth, elementary school student Sho...   \n\n                                      title_synonyms  \n0  ['Hagane no Renkinjutsushi: Fullmetal Alchemis...  \n1                                     ['HxH (2011)']  \n2                                                 []  \n3                                                 []  \n4                             ['The Shape of Voice']  ",
      "text/html": "<div>\n<style scoped>\n    .dataframe tbody tr th:only-of-type {\n        vertical-align: middle;\n    }\n\n    .dataframe tbody tr th {\n        vertical-align: top;\n    }\n\n    .dataframe thead th {\n        text-align: right;\n    }\n</style>\n<table border=\"1\" class=\"dataframe\">\n  <thead>\n    <tr style=\"text-align: right;\">\n      <th></th>\n      <th>anime_id</th>\n      <th>title</th>\n      <th>type</th>\n      <th>genres</th>\n      <th>themes</th>\n      <th>demographics</th>\n      <th>studios</th>\n      <th>synopsis</th>\n      <th>title_synonyms</th>\n    </tr>\n  </thead>\n  <tbody>\n    <tr>\n      <th>0</th>\n      <td>5114</td>\n      <td>Fullmetal Alchemist: Brotherhood</td>\n      <td>tv</td>\n      <td>['Action', 'Adventure', 'Drama', 'Fantasy']</td>\n      <td>['Military']</td>\n      <td>['Shounen']</td>\n      <td>['Bones']</td>\n      <td>After a horrific alchemy experiment goes wrong...</td>\n      <td>['Hagane no Renkinjutsushi: Fullmetal Alchemis...</td>\n    </tr>\n    <tr>\n      <th>1</th>\n      <td>11061</td>\n      <td>Hunter x Hunter (2011)</td>\n      <td>tv</td>\n      <td>['Action', 'Adventure', 'Fantasy']</td>\n      <td>[]</td>\n      <td>['Shounen']</td>\n      <td>['Madhouse']</td>\n      <td>Hunters devote themselves to accomplishing haz...</td>\n      <td>['HxH (2011)']</td>\n    </tr>\n    <tr>\n      <th>2</th>\n      <td>38524</td>\n      <td>Shingeki no Kyojin Season 3 Part 2</td>\n      <td>tv</td>\n      <td>['Action', 'Drama']</td>\n      <td>['Gore', 'Military', 'Survival']</td>\n      <td>['Shounen']</td>\n      <td>['Wit Studio']</td>\n      <td>Seeking to restore humanity's diminishing hope...</td>\n      <td>[]</td>\n    </tr>\n    <tr>\n      <th>3</th>\n      <td>9253</td>\n      <td>Steins;Gate</td>\n      <td>tv</td>\n      <td>['Drama', 'Sci-Fi', 'Suspense']</td>\n      <td>['Psychological', 'Time Travel']</td>\n      <td>[]</td>\n      <td>['White Fox']</td>\n      <td>Eccentric scientist Rintarou Okabe has a never...</td>\n      <td>[]</td>\n    </tr>\n    <tr>\n      <th>4</th>\n      <td>28851</td>\n      <td>Koe no Katachi</td>\n      <td>movie</td>\n      <td>['Drama']</td>\n      <td>['Romantic Subtext']</td>\n      <td>['Shounen']</td>\n      <td>['Kyoto Animation']</td>\n      <td>As a wild youth, elementary school student Sho...</td>\n      <td>['The Shape of Voice']</td>\n    </tr>\n  </tbody>\n</table>\n</div>"
     },
     "execution_count": 88,
     "metadata": {},
     "output_type": "execute_result"
    }
   ],
   "source": [
    "anime = anime[['anime_id','title','type','genres','themes','demographics','studios','synopsis','title_synonyms']]\n",
    "anime.head()"
   ],
   "metadata": {
    "collapsed": false,
    "pycharm": {
     "name": "#%%\n"
    }
   }
  },
  {
   "cell_type": "code",
   "execution_count": 89,
   "outputs": [
    {
     "data": {
      "text/plain": "anime_id             0\ntitle                0\ntype                73\ngenres               0\nthemes               0\ndemographics         0\nstudios              0\nsynopsis          3317\ntitle_synonyms       0\ndtype: int64"
     },
     "execution_count": 89,
     "metadata": {},
     "output_type": "execute_result"
    }
   ],
   "source": [
    "anime.isnull().sum()"
   ],
   "metadata": {
    "collapsed": false,
    "pycharm": {
     "name": "#%%\n"
    }
   }
  },
  {
   "cell_type": "code",
   "execution_count": 90,
   "outputs": [],
   "source": [
    "anime.dropna(inplace=True)"
   ],
   "metadata": {
    "collapsed": false,
    "pycharm": {
     "name": "#%%\n"
    }
   }
  },
  {
   "cell_type": "code",
   "execution_count": 91,
   "outputs": [
    {
     "data": {
      "text/plain": "anime_id          0\ntitle             0\ntype              0\ngenres            0\nthemes            0\ndemographics      0\nstudios           0\nsynopsis          0\ntitle_synonyms    0\ndtype: int64"
     },
     "execution_count": 91,
     "metadata": {},
     "output_type": "execute_result"
    }
   ],
   "source": [
    "anime.isnull().sum()"
   ],
   "metadata": {
    "collapsed": false,
    "pycharm": {
     "name": "#%%\n"
    }
   }
  },
  {
   "cell_type": "code",
   "execution_count": 92,
   "outputs": [
    {
     "data": {
      "text/plain": "   anime_id                               title   type  \\\n0      5114    Fullmetal Alchemist: Brotherhood     tv   \n1     11061              Hunter x Hunter (2011)     tv   \n2     38524  Shingeki no Kyojin Season 3 Part 2     tv   \n3      9253                         Steins;Gate     tv   \n4     28851                      Koe no Katachi  movie   \n\n                                        genres  \\\n0  ['Action', 'Adventure', 'Drama', 'Fantasy']   \n1           ['Action', 'Adventure', 'Fantasy']   \n2                          ['Action', 'Drama']   \n3              ['Drama', 'Sci-Fi', 'Suspense']   \n4                                    ['Drama']   \n\n                             themes demographics              studios  \\\n0                      ['Military']  ['Shounen']            ['Bones']   \n1                                []  ['Shounen']         ['Madhouse']   \n2  ['Gore', 'Military', 'Survival']  ['Shounen']       ['Wit Studio']   \n3  ['Psychological', 'Time Travel']           []        ['White Fox']   \n4              ['Romantic Subtext']  ['Shounen']  ['Kyoto Animation']   \n\n                                            synopsis  \\\n0  After a horrific alchemy experiment goes wrong...   \n1  Hunters devote themselves to accomplishing haz...   \n2  Seeking to restore humanity's diminishing hope...   \n3  Eccentric scientist Rintarou Okabe has a never...   \n4  As a wild youth, elementary school student Sho...   \n\n                                      title_synonyms  \n0  ['Hagane no Renkinjutsushi: Fullmetal Alchemis...  \n1                                     ['HxH (2011)']  \n2                                                 []  \n3                                                 []  \n4                             ['The Shape of Voice']  ",
      "text/html": "<div>\n<style scoped>\n    .dataframe tbody tr th:only-of-type {\n        vertical-align: middle;\n    }\n\n    .dataframe tbody tr th {\n        vertical-align: top;\n    }\n\n    .dataframe thead th {\n        text-align: right;\n    }\n</style>\n<table border=\"1\" class=\"dataframe\">\n  <thead>\n    <tr style=\"text-align: right;\">\n      <th></th>\n      <th>anime_id</th>\n      <th>title</th>\n      <th>type</th>\n      <th>genres</th>\n      <th>themes</th>\n      <th>demographics</th>\n      <th>studios</th>\n      <th>synopsis</th>\n      <th>title_synonyms</th>\n    </tr>\n  </thead>\n  <tbody>\n    <tr>\n      <th>0</th>\n      <td>5114</td>\n      <td>Fullmetal Alchemist: Brotherhood</td>\n      <td>tv</td>\n      <td>['Action', 'Adventure', 'Drama', 'Fantasy']</td>\n      <td>['Military']</td>\n      <td>['Shounen']</td>\n      <td>['Bones']</td>\n      <td>After a horrific alchemy experiment goes wrong...</td>\n      <td>['Hagane no Renkinjutsushi: Fullmetal Alchemis...</td>\n    </tr>\n    <tr>\n      <th>1</th>\n      <td>11061</td>\n      <td>Hunter x Hunter (2011)</td>\n      <td>tv</td>\n      <td>['Action', 'Adventure', 'Fantasy']</td>\n      <td>[]</td>\n      <td>['Shounen']</td>\n      <td>['Madhouse']</td>\n      <td>Hunters devote themselves to accomplishing haz...</td>\n      <td>['HxH (2011)']</td>\n    </tr>\n    <tr>\n      <th>2</th>\n      <td>38524</td>\n      <td>Shingeki no Kyojin Season 3 Part 2</td>\n      <td>tv</td>\n      <td>['Action', 'Drama']</td>\n      <td>['Gore', 'Military', 'Survival']</td>\n      <td>['Shounen']</td>\n      <td>['Wit Studio']</td>\n      <td>Seeking to restore humanity's diminishing hope...</td>\n      <td>[]</td>\n    </tr>\n    <tr>\n      <th>3</th>\n      <td>9253</td>\n      <td>Steins;Gate</td>\n      <td>tv</td>\n      <td>['Drama', 'Sci-Fi', 'Suspense']</td>\n      <td>['Psychological', 'Time Travel']</td>\n      <td>[]</td>\n      <td>['White Fox']</td>\n      <td>Eccentric scientist Rintarou Okabe has a never...</td>\n      <td>[]</td>\n    </tr>\n    <tr>\n      <th>4</th>\n      <td>28851</td>\n      <td>Koe no Katachi</td>\n      <td>movie</td>\n      <td>['Drama']</td>\n      <td>['Romantic Subtext']</td>\n      <td>['Shounen']</td>\n      <td>['Kyoto Animation']</td>\n      <td>As a wild youth, elementary school student Sho...</td>\n      <td>['The Shape of Voice']</td>\n    </tr>\n  </tbody>\n</table>\n</div>"
     },
     "execution_count": 92,
     "metadata": {},
     "output_type": "execute_result"
    }
   ],
   "source": [
    "anime.head()"
   ],
   "metadata": {
    "collapsed": false,
    "pycharm": {
     "name": "#%%\n"
    }
   }
  },
  {
   "cell_type": "code",
   "execution_count": 93,
   "outputs": [],
   "source": [
    "def blehh(x):\n",
    "    l = [\"'\",\"[\",\"]\",\",\"]\n",
    "    li = []\n",
    "    for i in l:\n",
    "         x = x.replace(i,(\"\"))\n",
    "         li = list(x.split(\" \"))\n",
    "    return li"
   ],
   "metadata": {
    "collapsed": false,
    "pycharm": {
     "name": "#%%\n"
    }
   }
  },
  {
   "cell_type": "code",
   "execution_count": 94,
   "outputs": [
    {
     "data": {
      "text/plain": "   anime_id                               title   type  \\\n0      5114    Fullmetal Alchemist: Brotherhood     tv   \n1     11061              Hunter x Hunter (2011)     tv   \n2     38524  Shingeki no Kyojin Season 3 Part 2     tv   \n3      9253                         Steins;Gate     tv   \n4     28851                      Koe no Katachi  movie   \n\n                                genres                         themes  \\\n0  [Action, Adventure, Drama, Fantasy]                     [Military]   \n1         [Action, Adventure, Fantasy]                             []   \n2                      [Action, Drama]     [Gore, Military, Survival]   \n3            [Drama, Sci-Fi, Suspense]  [Psychological, Time, Travel]   \n4                              [Drama]            [Romantic, Subtext]   \n\n  demographics             studios  \\\n0    [Shounen]             [Bones]   \n1    [Shounen]          [Madhouse]   \n2    [Shounen]       [Wit, Studio]   \n3           []        [White, Fox]   \n4    [Shounen]  [Kyoto, Animation]   \n\n                                            synopsis  \\\n0  [After, a, horrific, alchemy, experiment, goes...   \n1  [Hunters, devote, themselves, to, accomplishin...   \n2  [Seeking, to, restore, humanitys, diminishing,...   \n3  [Eccentric, scientist, Rintarou, Okabe, has, a...   \n4  [As, a, wild, youth, elementary, school, stude...   \n\n                                      title_synonyms  \n0  [Hagane, no, Renkinjutsushi:, Fullmetal, Alche...  \n1                                      [HxH, (2011)]  \n2                                                 []  \n3                                                 []  \n4                            [The, Shape, of, Voice]  ",
      "text/html": "<div>\n<style scoped>\n    .dataframe tbody tr th:only-of-type {\n        vertical-align: middle;\n    }\n\n    .dataframe tbody tr th {\n        vertical-align: top;\n    }\n\n    .dataframe thead th {\n        text-align: right;\n    }\n</style>\n<table border=\"1\" class=\"dataframe\">\n  <thead>\n    <tr style=\"text-align: right;\">\n      <th></th>\n      <th>anime_id</th>\n      <th>title</th>\n      <th>type</th>\n      <th>genres</th>\n      <th>themes</th>\n      <th>demographics</th>\n      <th>studios</th>\n      <th>synopsis</th>\n      <th>title_synonyms</th>\n    </tr>\n  </thead>\n  <tbody>\n    <tr>\n      <th>0</th>\n      <td>5114</td>\n      <td>Fullmetal Alchemist: Brotherhood</td>\n      <td>tv</td>\n      <td>[Action, Adventure, Drama, Fantasy]</td>\n      <td>[Military]</td>\n      <td>[Shounen]</td>\n      <td>[Bones]</td>\n      <td>[After, a, horrific, alchemy, experiment, goes...</td>\n      <td>[Hagane, no, Renkinjutsushi:, Fullmetal, Alche...</td>\n    </tr>\n    <tr>\n      <th>1</th>\n      <td>11061</td>\n      <td>Hunter x Hunter (2011)</td>\n      <td>tv</td>\n      <td>[Action, Adventure, Fantasy]</td>\n      <td>[]</td>\n      <td>[Shounen]</td>\n      <td>[Madhouse]</td>\n      <td>[Hunters, devote, themselves, to, accomplishin...</td>\n      <td>[HxH, (2011)]</td>\n    </tr>\n    <tr>\n      <th>2</th>\n      <td>38524</td>\n      <td>Shingeki no Kyojin Season 3 Part 2</td>\n      <td>tv</td>\n      <td>[Action, Drama]</td>\n      <td>[Gore, Military, Survival]</td>\n      <td>[Shounen]</td>\n      <td>[Wit, Studio]</td>\n      <td>[Seeking, to, restore, humanitys, diminishing,...</td>\n      <td>[]</td>\n    </tr>\n    <tr>\n      <th>3</th>\n      <td>9253</td>\n      <td>Steins;Gate</td>\n      <td>tv</td>\n      <td>[Drama, Sci-Fi, Suspense]</td>\n      <td>[Psychological, Time, Travel]</td>\n      <td>[]</td>\n      <td>[White, Fox]</td>\n      <td>[Eccentric, scientist, Rintarou, Okabe, has, a...</td>\n      <td>[]</td>\n    </tr>\n    <tr>\n      <th>4</th>\n      <td>28851</td>\n      <td>Koe no Katachi</td>\n      <td>movie</td>\n      <td>[Drama]</td>\n      <td>[Romantic, Subtext]</td>\n      <td>[Shounen]</td>\n      <td>[Kyoto, Animation]</td>\n      <td>[As, a, wild, youth, elementary, school, stude...</td>\n      <td>[The, Shape, of, Voice]</td>\n    </tr>\n  </tbody>\n</table>\n</div>"
     },
     "execution_count": 94,
     "metadata": {},
     "output_type": "execute_result"
    }
   ],
   "source": [
    "anime['genres'] = anime['genres'].apply(blehh)\n",
    "anime['themes'] = anime['themes'].apply(blehh)\n",
    "anime['demographics'] = anime['demographics'].apply(blehh)\n",
    "anime['studios'] = anime['studios'].apply(blehh)\n",
    "anime['synopsis'] = anime['synopsis'].apply(blehh)\n",
    "anime['title_synonyms'] = anime['title_synonyms'].apply(blehh)\n",
    "anime.head()"
   ],
   "metadata": {
    "collapsed": false,
    "pycharm": {
     "name": "#%%\n"
    }
   }
  },
  {
   "cell_type": "code",
   "execution_count": 95,
   "outputs": [],
   "source": [
    "anime['tags'] = anime['genres']+anime['themes']+anime['demographics']+anime['studios']+anime['synopsis']+anime['title_synonyms']"
   ],
   "metadata": {
    "collapsed": false,
    "pycharm": {
     "name": "#%%\n"
    }
   }
  },
  {
   "cell_type": "code",
   "execution_count": 96,
   "outputs": [],
   "source": [
    "new_df = anime[['anime_id','title','tags']]"
   ],
   "metadata": {
    "collapsed": false,
    "pycharm": {
     "name": "#%%\n"
    }
   }
  },
  {
   "cell_type": "code",
   "execution_count": 97,
   "outputs": [
    {
     "data": {
      "text/plain": "   anime_id                               title  \\\n0      5114    Fullmetal Alchemist: Brotherhood   \n1     11061              Hunter x Hunter (2011)   \n2     38524  Shingeki no Kyojin Season 3 Part 2   \n3      9253                         Steins;Gate   \n4     28851                      Koe no Katachi   \n\n                                                tags  \n0  [Action, Adventure, Drama, Fantasy, Military, ...  \n1  [Action, Adventure, Fantasy, , Shounen, Madhou...  \n2  [Action, Drama, Gore, Military, Survival, Shou...  \n3  [Drama, Sci-Fi, Suspense, Psychological, Time,...  \n4  [Drama, Romantic, Subtext, Shounen, Kyoto, Ani...  ",
      "text/html": "<div>\n<style scoped>\n    .dataframe tbody tr th:only-of-type {\n        vertical-align: middle;\n    }\n\n    .dataframe tbody tr th {\n        vertical-align: top;\n    }\n\n    .dataframe thead th {\n        text-align: right;\n    }\n</style>\n<table border=\"1\" class=\"dataframe\">\n  <thead>\n    <tr style=\"text-align: right;\">\n      <th></th>\n      <th>anime_id</th>\n      <th>title</th>\n      <th>tags</th>\n    </tr>\n  </thead>\n  <tbody>\n    <tr>\n      <th>0</th>\n      <td>5114</td>\n      <td>Fullmetal Alchemist: Brotherhood</td>\n      <td>[Action, Adventure, Drama, Fantasy, Military, ...</td>\n    </tr>\n    <tr>\n      <th>1</th>\n      <td>11061</td>\n      <td>Hunter x Hunter (2011)</td>\n      <td>[Action, Adventure, Fantasy, , Shounen, Madhou...</td>\n    </tr>\n    <tr>\n      <th>2</th>\n      <td>38524</td>\n      <td>Shingeki no Kyojin Season 3 Part 2</td>\n      <td>[Action, Drama, Gore, Military, Survival, Shou...</td>\n    </tr>\n    <tr>\n      <th>3</th>\n      <td>9253</td>\n      <td>Steins;Gate</td>\n      <td>[Drama, Sci-Fi, Suspense, Psychological, Time,...</td>\n    </tr>\n    <tr>\n      <th>4</th>\n      <td>28851</td>\n      <td>Koe no Katachi</td>\n      <td>[Drama, Romantic, Subtext, Shounen, Kyoto, Ani...</td>\n    </tr>\n  </tbody>\n</table>\n</div>"
     },
     "execution_count": 97,
     "metadata": {},
     "output_type": "execute_result"
    }
   ],
   "source": [
    "new_df.head()"
   ],
   "metadata": {
    "collapsed": false,
    "pycharm": {
     "name": "#%%\n"
    }
   }
  },
  {
   "cell_type": "code",
   "execution_count": 98,
   "outputs": [
    {
     "name": "stderr",
     "output_type": "stream",
     "text": [
      "C:\\Users\\lenovo\\AppData\\Local\\Temp\\ipykernel_18676\\2360541409.py:1: SettingWithCopyWarning: \n",
      "A value is trying to be set on a copy of a slice from a DataFrame.\n",
      "Try using .loc[row_indexer,col_indexer] = value instead\n",
      "\n",
      "See the caveats in the documentation: https://pandas.pydata.org/pandas-docs/stable/user_guide/indexing.html#returning-a-view-versus-a-copy\n",
      "  new_df['tags'] = new_df['tags'].apply(lambda x:\" \".join(x).lower())\n"
     ]
    }
   ],
   "source": [
    "new_df['tags'] = new_df['tags'].apply(lambda x:\" \".join(x).lower())"
   ],
   "metadata": {
    "collapsed": false,
    "pycharm": {
     "name": "#%%\n"
    }
   }
  },
  {
   "cell_type": "code",
   "execution_count": 99,
   "outputs": [
    {
     "data": {
      "text/plain": "   anime_id                               title  \\\n0      5114    Fullmetal Alchemist: Brotherhood   \n1     11061              Hunter x Hunter (2011)   \n2     38524  Shingeki no Kyojin Season 3 Part 2   \n3      9253                         Steins;Gate   \n4     28851                      Koe no Katachi   \n\n                                                tags  \n0  action adventure drama fantasy military shoune...  \n1  action adventure fantasy  shounen madhouse hun...  \n2  action drama gore military survival shounen wi...  \n3  drama sci-fi suspense psychological time trave...  \n4  drama romantic subtext shounen kyoto animation...  ",
      "text/html": "<div>\n<style scoped>\n    .dataframe tbody tr th:only-of-type {\n        vertical-align: middle;\n    }\n\n    .dataframe tbody tr th {\n        vertical-align: top;\n    }\n\n    .dataframe thead th {\n        text-align: right;\n    }\n</style>\n<table border=\"1\" class=\"dataframe\">\n  <thead>\n    <tr style=\"text-align: right;\">\n      <th></th>\n      <th>anime_id</th>\n      <th>title</th>\n      <th>tags</th>\n    </tr>\n  </thead>\n  <tbody>\n    <tr>\n      <th>0</th>\n      <td>5114</td>\n      <td>Fullmetal Alchemist: Brotherhood</td>\n      <td>action adventure drama fantasy military shoune...</td>\n    </tr>\n    <tr>\n      <th>1</th>\n      <td>11061</td>\n      <td>Hunter x Hunter (2011)</td>\n      <td>action adventure fantasy  shounen madhouse hun...</td>\n    </tr>\n    <tr>\n      <th>2</th>\n      <td>38524</td>\n      <td>Shingeki no Kyojin Season 3 Part 2</td>\n      <td>action drama gore military survival shounen wi...</td>\n    </tr>\n    <tr>\n      <th>3</th>\n      <td>9253</td>\n      <td>Steins;Gate</td>\n      <td>drama sci-fi suspense psychological time trave...</td>\n    </tr>\n    <tr>\n      <th>4</th>\n      <td>28851</td>\n      <td>Koe no Katachi</td>\n      <td>drama romantic subtext shounen kyoto animation...</td>\n    </tr>\n  </tbody>\n</table>\n</div>"
     },
     "execution_count": 99,
     "metadata": {},
     "output_type": "execute_result"
    }
   ],
   "source": [
    "new_df.head()"
   ],
   "metadata": {
    "collapsed": false,
    "pycharm": {
     "name": "#%%\n"
    }
   }
  },
  {
   "cell_type": "markdown",
   "source": [],
   "metadata": {
    "collapsed": false
   }
  },
  {
   "cell_type": "code",
   "execution_count": 101,
   "outputs": [
    {
     "name": "stdout",
     "output_type": "stream",
     "text": [
      "<class 'pandas.core.frame.DataFrame'>\n",
      "Int64Index: 20794 entries, 0 to 24162\n",
      "Data columns (total 3 columns):\n",
      " #   Column    Non-Null Count  Dtype \n",
      "---  ------    --------------  ----- \n",
      " 0   anime_id  20794 non-null  int64 \n",
      " 1   title     20794 non-null  object\n",
      " 2   tags      20794 non-null  object\n",
      "dtypes: int64(1), object(2)\n",
      "memory usage: 649.8+ KB\n"
     ]
    }
   ],
   "source": [
    "new_df.info()"
   ],
   "metadata": {
    "collapsed": false,
    "pycharm": {
     "name": "#%%\n"
    }
   }
  },
  {
   "cell_type": "code",
   "execution_count": 100,
   "outputs": [],
   "source": [
    "from sklearn.feature_extraction.text import CountVectorizer\n",
    "from sklearn.metrics.pairwise import cosine_similarity"
   ],
   "metadata": {
    "collapsed": false,
    "pycharm": {
     "name": "#%%\n"
    }
   }
  },
  {
   "cell_type": "markdown",
   "source": [],
   "metadata": {
    "collapsed": false
   }
  },
  {
   "cell_type": "code",
   "execution_count": 103,
   "outputs": [],
   "source": [
    "cv = CountVectorizer(max_features=21000 ,stop_words='english')\n",
    "vectors = cv.fit_transform(new_df['tags']).toarray()"
   ],
   "metadata": {
    "collapsed": false,
    "pycharm": {
     "name": "#%%\n"
    }
   }
  },
  {
   "cell_type": "code",
   "execution_count": 104,
   "outputs": [
    {
     "data": {
      "text/plain": "   anime_id                               title  \\\n0      5114    Fullmetal Alchemist: Brotherhood   \n1     11061              Hunter x Hunter (2011)   \n2     38524  Shingeki no Kyojin Season 3 Part 2   \n3      9253                         Steins;Gate   \n4     28851                      Koe no Katachi   \n\n                                                tags  \n0  action adventure drama fantasy military shoune...  \n1  action adventure fantasy  shounen madhouse hun...  \n2  action drama gore military survival shounen wi...  \n3  drama sci-fi suspense psychological time trave...  \n4  drama romantic subtext shounen kyoto animation...  ",
      "text/html": "<div>\n<style scoped>\n    .dataframe tbody tr th:only-of-type {\n        vertical-align: middle;\n    }\n\n    .dataframe tbody tr th {\n        vertical-align: top;\n    }\n\n    .dataframe thead th {\n        text-align: right;\n    }\n</style>\n<table border=\"1\" class=\"dataframe\">\n  <thead>\n    <tr style=\"text-align: right;\">\n      <th></th>\n      <th>anime_id</th>\n      <th>title</th>\n      <th>tags</th>\n    </tr>\n  </thead>\n  <tbody>\n    <tr>\n      <th>0</th>\n      <td>5114</td>\n      <td>Fullmetal Alchemist: Brotherhood</td>\n      <td>action adventure drama fantasy military shoune...</td>\n    </tr>\n    <tr>\n      <th>1</th>\n      <td>11061</td>\n      <td>Hunter x Hunter (2011)</td>\n      <td>action adventure fantasy  shounen madhouse hun...</td>\n    </tr>\n    <tr>\n      <th>2</th>\n      <td>38524</td>\n      <td>Shingeki no Kyojin Season 3 Part 2</td>\n      <td>action drama gore military survival shounen wi...</td>\n    </tr>\n    <tr>\n      <th>3</th>\n      <td>9253</td>\n      <td>Steins;Gate</td>\n      <td>drama sci-fi suspense psychological time trave...</td>\n    </tr>\n    <tr>\n      <th>4</th>\n      <td>28851</td>\n      <td>Koe no Katachi</td>\n      <td>drama romantic subtext shounen kyoto animation...</td>\n    </tr>\n  </tbody>\n</table>\n</div>"
     },
     "execution_count": 104,
     "metadata": {},
     "output_type": "execute_result"
    }
   ],
   "source": [
    "new_df.head()"
   ],
   "metadata": {
    "collapsed": false,
    "pycharm": {
     "name": "#%%\n"
    }
   }
  },
  {
   "cell_type": "code",
   "execution_count": 106,
   "outputs": [
    {
     "data": {
      "text/plain": "array([0, 0, 0, ..., 0, 0, 0], dtype=int64)"
     },
     "execution_count": 106,
     "metadata": {},
     "output_type": "execute_result"
    }
   ],
   "source": [
    "vectors[1]"
   ],
   "metadata": {
    "collapsed": false,
    "pycharm": {
     "name": "#%%\n"
    }
   }
  },
  {
   "cell_type": "code",
   "execution_count": 107,
   "outputs": [],
   "source": [
    "similarity = cosine_similarity(vectors)"
   ],
   "metadata": {
    "collapsed": false,
    "pycharm": {
     "name": "#%%\n"
    }
   }
  },
  {
   "cell_type": "code",
   "execution_count": 113,
   "outputs": [
    {
     "data": {
      "text/plain": "[(117, 0.5234889704573168),\n (1460, 0.36957457414391837),\n (696, 0.30284893870508584),\n (590, 0.278004649899698),\n (4295, 0.24145109601491868),\n (14029, 0.23673563096205322),\n (2505, 0.17914359097500465),\n (5066, 0.15980944821387583),\n (7139, 0.1498713568158632),\n (895, 0.14430870844131527),\n (5067, 0.14238121546156626),\n (4308, 0.14232464388839283),\n (8138, 0.14121144563985163),\n (2542, 0.1388386131576534),\n (4327, 0.13765295000339361)]"
     },
     "execution_count": 113,
     "metadata": {},
     "output_type": "execute_result"
    }
   ],
   "source": [
    "sorted(list(enumerate(similarity[0])),reverse=True, key= lambda x:x[1])[1:16]"
   ],
   "metadata": {
    "collapsed": false,
    "pycharm": {
     "name": "#%%\n"
    }
   }
  },
  {
   "cell_type": "code",
   "execution_count": 114,
   "outputs": [],
   "source": [
    "def recommend(anime):\n",
    "    index = new_df[new_df['title'] == anime].index[0]\n",
    "    distances = similarity[index]\n",
    "    movies_list = sorted(list(enumerate(distances)),reverse=True, key= lambda x:x[1])[1:16]\n",
    "\n",
    "    for i in movies_list:\n",
    "        print (new_df.iloc[i[0]].title)"
   ],
   "metadata": {
    "collapsed": false,
    "pycharm": {
     "name": "#%%\n"
    }
   }
  },
  {
   "cell_type": "code",
   "execution_count": 115,
   "outputs": [
    {
     "name": "stdout",
     "output_type": "stream",
     "text": [
      "Steins;Gate: Kyoukaimenjou no Missing Link - Divide By Zero\n",
      "Steins;Gate 0\n",
      "Steins;Gate Movie: Fuka Ryouiki no Déjà vu\n",
      "Toki wo Kakeru Shoujo\n",
      "Steins;Gate: Oukoubakko no Poriomania\n",
      "Chao Shikong Da Maoxian\n",
      "Steins;Gate: Soumei Eichi no Cognitive Computing\n",
      "Buddy Complex: Kanketsu-hen - Ano Sora ni Kaeru Mirai de\n",
      "Time Bokan\n",
      "World Heroes\n",
      "Toki no Tabibito: Time Stranger\n",
      "Fate/Grand Order: First Order\n",
      "00:08\n",
      "Gintama Movie 2: Kanketsu-hen - Yorozuya yo Eien Nare\n",
      "Jikuu Tantei Genshi-kun\n"
     ]
    }
   ],
   "source": [
    "recommend('Steins;Gate')"
   ],
   "metadata": {
    "collapsed": false,
    "pycharm": {
     "name": "#%%\n"
    }
   }
  },
  {
   "cell_type": "code",
   "execution_count": null,
   "outputs": [],
   "source": [],
   "metadata": {
    "collapsed": false,
    "pycharm": {
     "name": "#%%\n"
    }
   }
  }
 ],
 "metadata": {
  "kernelspec": {
   "display_name": "Python 3",
   "language": "python",
   "name": "python3"
  },
  "language_info": {
   "codemirror_mode": {
    "name": "ipython",
    "version": 2
   },
   "file_extension": ".py",
   "mimetype": "text/x-python",
   "name": "python",
   "nbconvert_exporter": "python",
   "pygments_lexer": "ipython2",
   "version": "2.7.6"
  }
 },
 "nbformat": 4,
 "nbformat_minor": 0
}